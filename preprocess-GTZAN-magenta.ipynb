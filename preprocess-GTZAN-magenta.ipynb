{
 "cells": [
  {
   "cell_type": "code",
   "execution_count": null,
   "metadata": {},
   "outputs": [],
   "source": [
    "import librosa\n",
    "import numpy as np\n",
    "from GTZAN import *"
   ]
  },
  {
   "cell_type": "code",
   "execution_count": null,
   "metadata": {},
   "outputs": [],
   "source": [
    "hp = {}\n",
    "hp['sr'] = 16000\n",
    "hp['hl'] = 512\n",
    "hp['nm'] = 229\n",
    "hp['fm'] = 30.0"
   ]
  },
  {
   "cell_type": "code",
   "execution_count": null,
   "metadata": {},
   "outputs": [],
   "source": [
    "def get_mel(file, hp):\n",
    "    wav = librosa.load(file, hp['sr'])[0]\n",
    "    mel = librosa.feature.melspectrogram(\n",
    "            wav,\n",
    "            sr=hp['sr'],\n",
    "            hop_length=hp['hl'],\n",
    "            fmin=hp['fm'],\n",
    "            n_mels=hp['nm'],\n",
    "            htk=False\n",
    "            ).astype(np.float32)\n",
    "    mel = mel.T\n",
    "    return mel"
   ]
  },
  {
   "cell_type": "code",
   "execution_count": null,
   "metadata": {},
   "outputs": [],
   "source": [
    "for s in styles:\n",
    "    for n in range(100):\n",
    "        mel = get_mel(filename_audio(s, n), hp)\n",
    "        np.save(filename_spec(s, n), mel)\n",
    "        print(filename(s, n))"
   ]
  }
 ],
 "metadata": {
  "kernelspec": {
   "display_name": "Python 3",
   "language": "python",
   "name": "python3"
  },
  "language_info": {
   "codemirror_mode": {
    "name": "ipython",
    "version": 3
   },
   "file_extension": ".py",
   "mimetype": "text/x-python",
   "name": "python",
   "nbconvert_exporter": "python",
   "pygments_lexer": "ipython3",
   "version": "3.6.7"
  }
 },
 "nbformat": 4,
 "nbformat_minor": 2
}
