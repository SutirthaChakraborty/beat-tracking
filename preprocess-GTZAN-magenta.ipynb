{
 "cells": [
  {
   "cell_type": "code",
   "execution_count": 5,
   "metadata": {},
   "outputs": [],
   "source": [
    "import librosa\n",
    "import numpy as np\n",
    "from GTZAN import *"
   ]
  },
  {
   "cell_type": "code",
   "execution_count": 6,
   "metadata": {},
   "outputs": [],
   "source": [
    "hp = {}\n",
    "hp['sr'] = 16000\n",
    "hp['hl'] = 512\n",
    "hp['nm'] = 229\n",
    "hp['fm'] = 30.0\n",
    "\n",
    "hp['spec_log_amplitude'] = True\n",
    "hp['spec_mel_htk'] = True"
   ]
  },
  {
   "cell_type": "code",
   "execution_count": 7,
   "metadata": {},
   "outputs": [],
   "source": [
    "def get_mel(file, hp):\n",
    "    wav = librosa.load(file, hp['sr'])[0]\n",
    "    spec = librosa.feature.melspectrogram(\n",
    "            wav,\n",
    "            sr=hp['sr'],\n",
    "            hop_length=hp['hl'],\n",
    "            fmin=hp['fm'],\n",
    "            n_mels=hp['nm'],\n",
    "            htk=True\n",
    "            ).astype(np.float32).T\n",
    "    spec = spec.T\n",
    "    spec = librosa.power_to_db(spec)\n",
    "    return spec"
   ]
  },
  {
   "cell_type": "code",
   "execution_count": null,
   "metadata": {},
   "outputs": [],
   "source": [
    "for s in styles:\n",
    "    for n in range(100):\n",
    "        mel = get_mel(filename_audio(s, n), hp)\n",
    "        np.save(filename_spec(s, n), mel)\n",
    "        print(filename(s, n))"
   ]
  }
 ],
 "metadata": {
  "kernelspec": {
   "display_name": "Python 3",
   "language": "python",
   "name": "python3"
  },
  "language_info": {
   "codemirror_mode": {
    "name": "ipython",
    "version": 3
   },
   "file_extension": ".py",
   "mimetype": "text/x-python",
   "name": "python",
   "nbconvert_exporter": "python",
   "pygments_lexer": "ipython3",
   "version": "3.6.7"
  }
 },
 "nbformat": 4,
 "nbformat_minor": 2
}
